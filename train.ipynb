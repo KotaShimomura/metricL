{
 "cells": [
  {
   "cell_type": "code",
   "execution_count": 1,
   "id": "charming-plenty",
   "metadata": {},
   "outputs": [
    {
     "name": "stdout",
     "output_type": "stream",
     "text": [
      "Requirement already satisfied: pytorch-metric-learning in /opt/conda/lib/python3.8/site-packages (1.6.2)\n",
      "Requirement already satisfied: scikit-learn in /opt/conda/lib/python3.8/site-packages (from pytorch-metric-learning) (1.0.2)\n",
      "Requirement already satisfied: tqdm in /opt/conda/lib/python3.8/site-packages (from pytorch-metric-learning) (4.53.0)\n",
      "Requirement already satisfied: torch>=1.6.0 in /opt/conda/lib/python3.8/site-packages (from pytorch-metric-learning) (1.8.0a0+52ea372)\n",
      "Requirement already satisfied: torchvision in /opt/conda/lib/python3.8/site-packages (from pytorch-metric-learning) (0.9.0a0)\n",
      "Requirement already satisfied: numpy in /opt/conda/lib/python3.8/site-packages (from pytorch-metric-learning) (1.19.2)\n",
      "Requirement already satisfied: joblib>=0.11 in /opt/conda/lib/python3.8/site-packages (from scikit-learn->pytorch-metric-learning) (1.0.1)\n",
      "Requirement already satisfied: scipy>=1.1.0 in /opt/conda/lib/python3.8/site-packages (from scikit-learn->pytorch-metric-learning) (1.6.0)\n",
      "Requirement already satisfied: threadpoolctl>=2.0.0 in /opt/conda/lib/python3.8/site-packages (from scikit-learn->pytorch-metric-learning) (2.1.0)\n",
      "Requirement already satisfied: typing-extensions in /opt/conda/lib/python3.8/site-packages (from torch>=1.6.0->pytorch-metric-learning) (3.7.4.3)\n",
      "Requirement already satisfied: pillow>=4.1.1 in /opt/conda/lib/python3.8/site-packages (from torchvision->pytorch-metric-learning) (9.2.0)\n"
     ]
    }
   ],
   "source": [
    "! pip install pytorch-metric-learning"
   ]
  },
  {
   "cell_type": "code",
   "execution_count": 5,
   "id": "binary-algeria",
   "metadata": {},
   "outputs": [],
   "source": [
    "import timm\n",
    "import torch\n",
    "from torch import optim\n",
    "import torchvision\n",
    "import torch.nn as nn\n",
    "import torch.nn.functional as F\n",
    "from torchvision import datasets, transforms\n",
    "from torch.utils.data import Dataset, DataLoader\n",
    "import numpy as np\n",
    "from cycler import cycler\n",
    "from torch import optim\n",
    "import os\n",
    "\n",
    "import matplotlib.pyplot as plt\n",
    "from sklearn.manifold import TSNE\n",
    "from pytorch_metric_learning.miners import TripletMarginMiner\n",
    "from pytorch_metric_learning.distances import CosineSimilarity\n",
    "from pytorch_metric_learning.losses import TripletMarginLoss\n",
    "from pytorch_metric_learning.reducers import ThresholdReducer"
   ]
  },
  {
   "cell_type": "code",
   "execution_count": 6,
   "id": "persistent-workshop",
   "metadata": {},
   "outputs": [],
   "source": [
    "class CFG:\n",
    "    data_path = \"./dataset/\" \n",
    "    model_name = [\"vgg16\",\"efficientnet_b0\",\"resnet34d\"]\n",
    "    epoch = 10\n",
    "    pretrained = True\n",
    "    inp_channels = 1\n",
    "    batch_size = 64\n",
    "    lr = 1e-5\n",
    "    out_features = 10\n",
    "    seed = 42\n",
    "    device = \"cuda\" if torch.cuda.is_available() else \"cpu\""
   ]
  },
  {
   "cell_type": "code",
   "execution_count": 7,
   "id": "opening-yacht",
   "metadata": {},
   "outputs": [],
   "source": [
    "def seed_everything(seed):\n",
    "    os.environ['PYTHONHASHSEED'] = str(seed)\n",
    "    np.random.seed(seed)\n",
    "    torch.manual_seed(seed)\n",
    "    torch.cuda.manual_seed(seed)\n",
    "    torch.backends.cudnn.deterministic = True\n",
    "    \n",
    "seed_everything(seed=CFG.seed)"
   ]
  },
  {
   "cell_type": "code",
   "execution_count": 8,
   "id": "proof-pollution",
   "metadata": {},
   "outputs": [],
   "source": [
    "transform = transforms.Compose([\n",
    "        transforms.ToTensor(),\n",
    "        transforms.Normalize((0.5,), (0.5,))\n",
    "    ])\n",
    "\n",
    "train_dataset = datasets.FashionMNIST(CFG.data_path, train=True, download=False, transform=transform)\n",
    "test_dataset = datasets.FashionMNIST(CFG.data_path, train=False, transform=transform)\n",
    "\n",
    "train_loader = DataLoader(train_dataset, batch_size=CFG.batch_size, shuffle=True)\n",
    "test_loader = DataLoader(test_dataset, batch_size=CFG.batch_size, shuffle=False)"
   ]
  },
  {
   "cell_type": "code",
   "execution_count": 9,
   "id": "color-petite",
   "metadata": {},
   "outputs": [],
   "source": [
    "class CustomModel(nn.Module):\n",
    "    def __init__(\n",
    "        self, model_name=CFG.model_name, n_class=CFG.out_features, pretrained=CFG.pretrained, in_chans=CFG.inp_channels):\n",
    "        super().__init__()\n",
    "        self.backbone = timm.create_model(\n",
    "            model_name, pretrained=pretrained, num_classes = n_class, in_chans=in_chans)\n",
    "      \n",
    "    def forward(self, x):\n",
    "        x = self.backbone(x)\n",
    "        output = x\n",
    "        return output"
   ]
  },
  {
   "cell_type": "code",
   "execution_count": 10,
   "id": "designed-excess",
   "metadata": {},
   "outputs": [],
   "source": [
    "def train(model, loss_func, mining_func, device, dataloader, optimizer, epoch):\n",
    "    model.train() \n",
    "    for idx, (inputs, labels) in enumerate(dataloader):\n",
    "        inputs, labels = inputs.to(device), labels.to(device)\n",
    "        optimizer.zero_grad()\n",
    "        embeddings = model(inputs)\n",
    "        indices_tuple = mining_func(embeddings, labels)\n",
    "        loss = loss_func(embeddings, labels, indices_tuple)\n",
    "        loss.backward()\n",
    "        optimizer.step()\n",
    "        if idx % 100 == 0:\n",
    "            print('Epoch {} Iteration {}: Loss = {}, Number of mined triplets = {}'.format(epoch, idx, loss, mining_func.num_triplets))"
   ]
  },
  {
   "cell_type": "code",
   "execution_count": 20,
   "id": "vulnerable-alliance",
   "metadata": {},
   "outputs": [],
   "source": [
    "def test(model, dataloader, device, epoch):\n",
    "    _predicted_metrics = []\n",
    "    _true_labels = []\n",
    "    with torch.no_grad():    \n",
    "        for i, (inputs,  labels) in enumerate(dataloader):\n",
    "            inputs, labels = inputs.to(device), labels.to(device)\n",
    "            metric = model(inputs).detach().cpu().numpy()\n",
    "            metric = metric.reshape(metric.shape[0], metric.shape[1])\n",
    "            _predicted_metrics.append(metric)\n",
    "            _true_labels.append(labels.detach().cpu().numpy())\n",
    "    return np.concatenate(_predicted_metrics), np.concatenate(_true_labels)"
   ]
  },
  {
   "cell_type": "code",
   "execution_count": 12,
   "id": "responsible-possession",
   "metadata": {},
   "outputs": [
    {
     "name": "stdout",
     "output_type": "stream",
     "text": [
      "Epoch 1/10\n",
      "----------\n",
      "Epoch 1 Iteration 0: Loss = 0.41610944271087646, Number of mined triplets = 15323\n",
      "Epoch 1 Iteration 100: Loss = 0.4124983251094818, Number of mined triplets = 14225\n",
      "Epoch 1 Iteration 200: Loss = 0.36883997917175293, Number of mined triplets = 14378\n",
      "Epoch 1 Iteration 300: Loss = 0.38162490725517273, Number of mined triplets = 14424\n",
      "Epoch 1 Iteration 400: Loss = 0.3920902609825134, Number of mined triplets = 14753\n",
      "Epoch 1 Iteration 500: Loss = 0.34644296765327454, Number of mined triplets = 13154\n",
      "Epoch 1 Iteration 600: Loss = 0.37233754992485046, Number of mined triplets = 11497\n",
      "Epoch 1 Iteration 700: Loss = 0.33931249380111694, Number of mined triplets = 11087\n",
      "Epoch 1 Iteration 800: Loss = 0.30875539779663086, Number of mined triplets = 8966\n",
      "Epoch 1 Iteration 900: Loss = 0.31887784600257874, Number of mined triplets = 10277\n",
      "Epoch 2/10\n",
      "----------\n",
      "Epoch 2 Iteration 0: Loss = 0.29111650586128235, Number of mined triplets = 9514\n",
      "Epoch 2 Iteration 100: Loss = 0.2750050127506256, Number of mined triplets = 8396\n",
      "Epoch 2 Iteration 200: Loss = 0.31098470091819763, Number of mined triplets = 10576\n",
      "Epoch 2 Iteration 300: Loss = 0.3081539571285248, Number of mined triplets = 9504\n",
      "Epoch 2 Iteration 400: Loss = 0.26917344331741333, Number of mined triplets = 7635\n",
      "Epoch 2 Iteration 500: Loss = 0.24830621480941772, Number of mined triplets = 7147\n",
      "Epoch 2 Iteration 600: Loss = 0.27501633763313293, Number of mined triplets = 7574\n",
      "Epoch 2 Iteration 700: Loss = 0.24609042704105377, Number of mined triplets = 7275\n",
      "Epoch 2 Iteration 800: Loss = 0.22490808367729187, Number of mined triplets = 5918\n",
      "Epoch 2 Iteration 900: Loss = 0.2477860152721405, Number of mined triplets = 7972\n",
      "Epoch 3/10\n",
      "----------\n",
      "Epoch 3 Iteration 0: Loss = 0.21405552327632904, Number of mined triplets = 6927\n",
      "Epoch 3 Iteration 100: Loss = 0.22558186948299408, Number of mined triplets = 6813\n",
      "Epoch 3 Iteration 200: Loss = 0.23665766417980194, Number of mined triplets = 5224\n",
      "Epoch 3 Iteration 300: Loss = 0.2449314296245575, Number of mined triplets = 6150\n",
      "Epoch 3 Iteration 400: Loss = 0.20390109717845917, Number of mined triplets = 5115\n",
      "Epoch 3 Iteration 500: Loss = 0.22918708622455597, Number of mined triplets = 7127\n",
      "Epoch 3 Iteration 600: Loss = 0.22432053089141846, Number of mined triplets = 5769\n",
      "Epoch 3 Iteration 700: Loss = 0.21909426152706146, Number of mined triplets = 4325\n",
      "Epoch 3 Iteration 800: Loss = 0.22121134400367737, Number of mined triplets = 5433\n",
      "Epoch 3 Iteration 900: Loss = 0.22027471661567688, Number of mined triplets = 5668\n",
      "Epoch 4/10\n",
      "----------\n",
      "Epoch 4 Iteration 0: Loss = 0.2155032902956009, Number of mined triplets = 6027\n",
      "Epoch 4 Iteration 100: Loss = 0.1877042055130005, Number of mined triplets = 4194\n",
      "Epoch 4 Iteration 200: Loss = 0.20983394980430603, Number of mined triplets = 4590\n",
      "Epoch 4 Iteration 300: Loss = 0.1993263214826584, Number of mined triplets = 4389\n",
      "Epoch 4 Iteration 400: Loss = 0.2102697342634201, Number of mined triplets = 4546\n",
      "Epoch 4 Iteration 500: Loss = 0.22155794501304626, Number of mined triplets = 5362\n",
      "Epoch 4 Iteration 600: Loss = 0.21017464995384216, Number of mined triplets = 4678\n",
      "Epoch 4 Iteration 700: Loss = 0.2517300248146057, Number of mined triplets = 5912\n",
      "Epoch 4 Iteration 800: Loss = 0.23182854056358337, Number of mined triplets = 4589\n",
      "Epoch 4 Iteration 900: Loss = 0.17770738899707794, Number of mined triplets = 2973\n",
      "Epoch 5/10\n",
      "----------\n",
      "Epoch 5 Iteration 0: Loss = 0.1913105696439743, Number of mined triplets = 2969\n",
      "Epoch 5 Iteration 100: Loss = 0.2289031594991684, Number of mined triplets = 3944\n",
      "Epoch 5 Iteration 200: Loss = 0.20420043170452118, Number of mined triplets = 3424\n",
      "Epoch 5 Iteration 300: Loss = 0.22454974055290222, Number of mined triplets = 4203\n",
      "Epoch 5 Iteration 400: Loss = 0.2191915661096573, Number of mined triplets = 4080\n",
      "Epoch 5 Iteration 500: Loss = 0.19644367694854736, Number of mined triplets = 4134\n",
      "Epoch 5 Iteration 600: Loss = 0.15531477332115173, Number of mined triplets = 2495\n",
      "Epoch 5 Iteration 700: Loss = 0.21603164076805115, Number of mined triplets = 3427\n",
      "Epoch 5 Iteration 800: Loss = 0.2092036008834839, Number of mined triplets = 3757\n",
      "Epoch 5 Iteration 900: Loss = 0.26834723353385925, Number of mined triplets = 5061\n",
      "Epoch 6/10\n",
      "----------\n",
      "Epoch 6 Iteration 0: Loss = 0.1871267855167389, Number of mined triplets = 3563\n",
      "Epoch 6 Iteration 100: Loss = 0.19125477969646454, Number of mined triplets = 2840\n",
      "Epoch 6 Iteration 200: Loss = 0.1803692728281021, Number of mined triplets = 2418\n",
      "Epoch 6 Iteration 300: Loss = 0.1952444463968277, Number of mined triplets = 2275\n",
      "Epoch 6 Iteration 400: Loss = 0.182503342628479, Number of mined triplets = 2510\n",
      "Epoch 6 Iteration 500: Loss = 0.20929023623466492, Number of mined triplets = 3028\n",
      "Epoch 6 Iteration 600: Loss = 0.2128780335187912, Number of mined triplets = 3144\n",
      "Epoch 6 Iteration 700: Loss = 0.19547629356384277, Number of mined triplets = 2418\n",
      "Epoch 6 Iteration 800: Loss = 0.22570282220840454, Number of mined triplets = 3206\n",
      "Epoch 6 Iteration 900: Loss = 0.20048660039901733, Number of mined triplets = 3301\n",
      "Epoch 7/10\n",
      "----------\n",
      "Epoch 7 Iteration 0: Loss = 0.19560202956199646, Number of mined triplets = 2062\n",
      "Epoch 7 Iteration 100: Loss = 0.14707879722118378, Number of mined triplets = 1870\n",
      "Epoch 7 Iteration 200: Loss = 0.22814951837062836, Number of mined triplets = 4201\n",
      "Epoch 7 Iteration 300: Loss = 0.14275866746902466, Number of mined triplets = 2677\n",
      "Epoch 7 Iteration 400: Loss = 0.23634953796863556, Number of mined triplets = 3310\n",
      "Epoch 7 Iteration 500: Loss = 0.21058276295661926, Number of mined triplets = 3517\n",
      "Epoch 7 Iteration 600: Loss = 0.22417137026786804, Number of mined triplets = 5037\n",
      "Epoch 7 Iteration 700: Loss = 0.1945686787366867, Number of mined triplets = 1797\n",
      "Epoch 7 Iteration 800: Loss = 0.21187882125377655, Number of mined triplets = 2539\n",
      "Epoch 7 Iteration 900: Loss = 0.19410903751850128, Number of mined triplets = 1930\n",
      "Epoch 8/10\n",
      "----------\n",
      "Epoch 8 Iteration 0: Loss = 0.17870131134986877, Number of mined triplets = 2379\n",
      "Epoch 8 Iteration 100: Loss = 0.19938597083091736, Number of mined triplets = 1917\n",
      "Epoch 8 Iteration 200: Loss = 0.20332226157188416, Number of mined triplets = 3765\n",
      "Epoch 8 Iteration 300: Loss = 0.16644692420959473, Number of mined triplets = 1865\n",
      "Epoch 8 Iteration 400: Loss = 0.20563489198684692, Number of mined triplets = 1819\n",
      "Epoch 8 Iteration 500: Loss = 0.21709886193275452, Number of mined triplets = 2931\n",
      "Epoch 8 Iteration 600: Loss = 0.21205902099609375, Number of mined triplets = 2501\n",
      "Epoch 8 Iteration 700: Loss = 0.19995364546775818, Number of mined triplets = 3424\n",
      "Epoch 8 Iteration 800: Loss = 0.21417096257209778, Number of mined triplets = 1948\n",
      "Epoch 8 Iteration 900: Loss = 0.21588563919067383, Number of mined triplets = 3294\n",
      "Epoch 9/10\n",
      "----------\n",
      "Epoch 9 Iteration 0: Loss = 0.2119532823562622, Number of mined triplets = 2260\n",
      "Epoch 9 Iteration 100: Loss = 0.17666083574295044, Number of mined triplets = 1762\n",
      "Epoch 9 Iteration 200: Loss = 0.1774573028087616, Number of mined triplets = 1975\n",
      "Epoch 9 Iteration 300: Loss = 0.179145947098732, Number of mined triplets = 1385\n",
      "Epoch 9 Iteration 400: Loss = 0.2038709968328476, Number of mined triplets = 1696\n",
      "Epoch 9 Iteration 500: Loss = 0.14918142557144165, Number of mined triplets = 1460\n",
      "Epoch 9 Iteration 600: Loss = 0.19152817130088806, Number of mined triplets = 1975\n",
      "Epoch 9 Iteration 700: Loss = 0.18306176364421844, Number of mined triplets = 2302\n",
      "Epoch 9 Iteration 800: Loss = 0.1953151524066925, Number of mined triplets = 2947\n",
      "Epoch 9 Iteration 900: Loss = 0.16670645773410797, Number of mined triplets = 1871\n",
      "Epoch 10/10\n",
      "----------\n",
      "Epoch 10 Iteration 0: Loss = 0.2032986432313919, Number of mined triplets = 2811\n",
      "Epoch 10 Iteration 100: Loss = 0.21798473596572876, Number of mined triplets = 2756\n",
      "Epoch 10 Iteration 200: Loss = 0.20296922326087952, Number of mined triplets = 2988\n",
      "Epoch 10 Iteration 300: Loss = 0.1993512213230133, Number of mined triplets = 1608\n",
      "Epoch 10 Iteration 400: Loss = 0.1748768538236618, Number of mined triplets = 1889\n",
      "Epoch 10 Iteration 500: Loss = 0.17636460065841675, Number of mined triplets = 1434\n",
      "Epoch 10 Iteration 600: Loss = 0.2051733434200287, Number of mined triplets = 2216\n"
     ]
    },
    {
     "name": "stdout",
     "output_type": "stream",
     "text": [
      "Epoch 10 Iteration 700: Loss = 0.20011882483959198, Number of mined triplets = 1525\n",
      "Epoch 10 Iteration 800: Loss = 0.1678042709827423, Number of mined triplets = 1148\n",
      "Epoch 10 Iteration 900: Loss = 0.2007482945919037, Number of mined triplets = 2027\n"
     ]
    }
   ],
   "source": [
    "if __name__ == '__main__':\n",
    "    \n",
    "    model = CustomModel(model_name=CFG.model_name[2]).to(CFG.device)\n",
    "    optimizer = optim.Adam(model.parameters(), lr=CFG.lr)\n",
    "    \n",
    "    test_predicted_metrics = []\n",
    "    test_true_labels = []\n",
    "    model_loss = 0\n",
    "    best_model_loss = 100\n",
    "\n",
    "\n",
    "    distance = CosineSimilarity()\n",
    "    reducer = ThresholdReducer(low = 0)\n",
    "    losser = TripletMarginLoss(margin=0.2, distance=distance, reducer=reducer)\n",
    "    miner = TripletMarginMiner(margin=0.2, distance=distance)\n",
    "    \n",
    "    loss_func = losser\n",
    "    mining_func = miner\n",
    "    \n",
    "    for epoch in range(1, CFG.epoch + 1):\n",
    "        print('Epoch {}/{}'.format(epoch, CFG.epoch))\n",
    "        print('-' * 10)\n",
    "        train(model, loss_func, mining_func, CFG.device, train_loader, optimizer, epoch)\n",
    "        if epoch % 5 == 0 or epoch ==1:\n",
    "            torch.save(model.state_dict(),f'epoch{epoch}_model.pth')"
   ]
  },
  {
   "cell_type": "code",
   "execution_count": 23,
   "id": "abstract-episode",
   "metadata": {},
   "outputs": [],
   "source": [
    "inf_model = CustomModel(model_name=CFG.model_name[2]).to(CFG.device)\n",
    "inf_model.load_state_dict(torch.load('epoch10_model.pth'))\n",
    "test_predicted_metrics, test_true_labels = test(inf_model, test_loader, CFG.device, epoch)"
   ]
  },
  {
   "cell_type": "code",
   "execution_count": 24,
   "id": "spanish-circus",
   "metadata": {},
   "outputs": [
    {
     "name": "stderr",
     "output_type": "stream",
     "text": [
      "/opt/conda/lib/python3.8/site-packages/sklearn/manifold/_t_sne.py:780: FutureWarning: The default initialization in TSNE will change from 'random' to 'pca' in 1.2.\n",
      "  warnings.warn(\n",
      "/opt/conda/lib/python3.8/site-packages/sklearn/manifold/_t_sne.py:790: FutureWarning: The default learning rate in TSNE will change from 200.0 to 'auto' in 1.2.\n",
      "  warnings.warn(\n"
     ]
    },
    {
     "data": {
      "image/png": "[encoded data removed]",
      "text/plain": [
       "<Figure size 432x288 with 2 Axes>"
      ]
     },
     "metadata": {
      "needs_background": "light"
     },
     "output_type": "display_data"
    }
   ],
   "source": [
    "tSNE_metrics = TSNE(n_components=2, random_state=0).fit_transform(test_predicted_metrics)\n",
    "\n",
    "plt.scatter(tSNE_metrics[:, 0], tSNE_metrics[:, 1], c=test_true_labels)\n",
    "plt.colorbar()\n",
    "plt.savefig(\"output.png\")\n",
    "plt.show()"
   ]
  }
 ],
 "metadata": {
  "kernelspec": {
   "display_name": "Python 3",
   "language": "python",
   "name": "python3"
  },
  "language_info": {
   "codemirror_mode": {
    "name": "ipython",
    "version": 3
   },
   "file_extension": ".py",
   "mimetype": "text/x-python",
   "name": "python",
   "nbconvert_exporter": "python",
   "pygments_lexer": "ipython3",
   "version": "3.8.5"
  }
 },
 "nbformat": 4,
 "nbformat_minor": 5
}
