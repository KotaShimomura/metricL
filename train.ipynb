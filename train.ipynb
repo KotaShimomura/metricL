{
 "cells": [
  {
   "cell_type": "code",
   "execution_count": null,
   "id": "charming-plenty",
   "metadata": {},
   "outputs": [],
   "source": [
    "! pip install pytorch-metric-learning\n",
    "! pip install MulticoreTSNE"
   ]
  },
  {
   "cell_type": "code",
   "execution_count": null,
   "id": "binary-algeria",
   "metadata": {},
   "outputs": [],
   "source": [
    "import timm\n",
    "import torch\n",
    "from torch import optim\n",
    "import torchvision\n",
    "import torch.nn as nn\n",
    "import torch.nn.functional as F\n",
    "from torchvision import datasets, transforms\n",
    "from torch.utils.data import Dataset, DataLoader\n",
    "import numpy as np\n",
    "from cycler import cycler\n",
    "from torch import optim\n",
    "import os\n",
    "\n",
    "import matplotlib.pyplot as plt\n",
    "#from sklearn.manifold import TSNE\n",
    "from MulticoreTSNE import MulticoreTSNE as TSNE\n",
    "from pytorch_metric_learning.miners import TripletMarginMiner\n",
    "from pytorch_metric_learning.distances import CosineSimilarity\n",
    "from pytorch_metric_learning.losses import TripletMarginLoss\n",
    "from pytorch_metric_learning.reducers import ThresholdReducer\n",
    "\n",
    "import glob\n",
    "import cv2\n",
    "from PIL import Image"
   ]
  },
  {
   "cell_type": "code",
   "execution_count": null,
   "id": "persistent-workshop",
   "metadata": {},
   "outputs": [],
   "source": [
    "class CFG:\n",
    "    data_path = \"./dataset/\"\n",
    "    exp = \"ex1\"\n",
    "    model_name = [\"vgg16\",\"efficientnet_b0\",\"resnet34d\"]\n",
    "    epoch = 20\n",
    "    pretrained = True\n",
    "    inp_channels = 1\n",
    "    batch_size = 64\n",
    "    lr = 1e-5\n",
    "    out_features = 128\n",
    "    seed = 42\n",
    "    device = \"cuda\" if torch.cuda.is_available() else \"cpu\""
   ]
  },
  {
   "cell_type": "code",
   "execution_count": null,
   "id": "opening-yacht",
   "metadata": {},
   "outputs": [],
   "source": [
    "def seed_everything(seed):\n",
    "    os.environ['PYTHONHASHSEED'] = str(seed)\n",
    "    np.random.seed(seed)\n",
    "    torch.manual_seed(seed)\n",
    "    torch.cuda.manual_seed(seed)\n",
    "    torch.backends.cudnn.deterministic = True\n",
    "    \n",
    "seed_everything(seed=CFG.seed)\n",
    "\n",
    "\n",
    "OUTPUT_DIR = './'+CFG.exp+'/'\n",
    "if not os.path.exists(OUTPUT_DIR):\n",
    "    os.makedirs(OUTPUT_DIR)"
   ]
  },
  {
   "cell_type": "code",
   "execution_count": null,
   "id": "proof-pollution",
   "metadata": {},
   "outputs": [],
   "source": [
    "transform = transforms.Compose([\n",
    "        transforms.ToTensor(),\n",
    "        transforms.Normalize((0.5,), (0.5,))\n",
    "    ])\n",
    "\n",
    "train_dataset = datasets.FashionMNIST(CFG.data_path, train=True, download=False, transform=transform)\n",
    "test_dataset = datasets.FashionMNIST(CFG.data_path, train=False, transform=transform)\n",
    "\n",
    "train_loader = DataLoader(train_dataset, batch_size=CFG.batch_size, shuffle=True)\n",
    "test_loader = DataLoader(test_dataset, batch_size=CFG.batch_size, shuffle=False)"
   ]
  },
  {
   "cell_type": "code",
   "execution_count": null,
   "id": "color-petite",
   "metadata": {},
   "outputs": [],
   "source": [
    "class CustomModel(nn.Module):\n",
    "    def __init__(\n",
    "        self, model_name=CFG.model_name, n_class=CFG.out_features, pretrained=CFG.pretrained, in_chans=CFG.inp_channels):\n",
    "        super().__init__()\n",
    "        self.backbone = timm.create_model(\n",
    "            model_name, pretrained=pretrained, num_classes = n_class, in_chans=in_chans)\n",
    "      \n",
    "    def forward(self, x):\n",
    "        x = self.backbone(x)\n",
    "        output = x\n",
    "        return output"
   ]
  },
  {
   "cell_type": "code",
   "execution_count": null,
   "id": "designed-excess",
   "metadata": {},
   "outputs": [],
   "source": [
    "def train(model, loss_func, mining_func, device, dataloader, optimizer, epoch):\n",
    "    model.train() \n",
    "    for idx, (inputs, labels) in enumerate(dataloader):\n",
    "        inputs, labels = inputs.to(device), labels.to(device)\n",
    "        optimizer.zero_grad()\n",
    "        embeddings = model(inputs)\n",
    "        indices_tuple = mining_func(embeddings, labels)\n",
    "        loss = loss_func(embeddings, labels, indices_tuple)\n",
    "        loss.backward()\n",
    "        optimizer.step()\n",
    "        if idx % 100 == 0:\n",
    "            print('Epoch {} Iteration {}: Loss = {}'.format(epoch, idx, loss))"
   ]
  },
  {
   "cell_type": "code",
   "execution_count": null,
   "id": "vulnerable-alliance",
   "metadata": {},
   "outputs": [],
   "source": [
    "def test(model, dataloader, device, epoch):\n",
    "    _predicted_metrics = []\n",
    "    _true_labels = []\n",
    "    with torch.no_grad():    \n",
    "        for i, (inputs,  labels) in enumerate(dataloader):\n",
    "            inputs, labels = inputs.to(device), labels.to(device)\n",
    "            metric = model(inputs).detach().cpu().numpy()\n",
    "            metric = metric.reshape(metric.shape[0], metric.shape[1])\n",
    "            _predicted_metrics.append(metric)\n",
    "            _true_labels.append(labels.detach().cpu().numpy())\n",
    "    return np.concatenate(_predicted_metrics), np.concatenate(_true_labels)"
   ]
  },
  {
   "cell_type": "code",
   "execution_count": null,
   "id": "confidential-static",
   "metadata": {},
   "outputs": [],
   "source": [
    "def tsne(epoch):\n",
    "    inf_model = CustomModel(model_name=CFG.model_name[2]).to(CFG.device)\n",
    "    inf_model.load_state_dict(torch.load(OUTPUT_DIR + \"/\" + f'epoch{epoch}_model.pth'))\n",
    "    test_predicted_metrics, test_true_labels = test(inf_model, test_loader, CFG.device, epoch)\n",
    "    tSNE_metrics = TSNE(n_components=2, random_state=0,n_jobs=4).fit_transform(test_predicted_metrics)\n",
    "\n",
    "    plt.scatter(tSNE_metrics[:, 0], tSNE_metrics[:, 1], c=test_true_labels)\n",
    "    plt.colorbar()\n",
    "    plt.savefig(OUTPUT_DIR + \"/\" + f\"output_epoch{epoch}.jpg\")\n",
    "    plt.xlim([-40,40])\n",
    "    plt.ylim([-40,40])\n",
    "    plt.show()"
   ]
  },
  {
   "cell_type": "code",
   "execution_count": null,
   "id": "quality-proposal",
   "metadata": {},
   "outputs": [],
   "source": [
    "def create_gif():\n",
    "    pictures=[]\n",
    "    for i in range(1,CFG.epoch+1):\n",
    "        pic_name=OUTPUT_DIR + f\"output_epoch{i}.jpg\"\n",
    "        img = Image.open(pic_name)\n",
    "        pictures.append(img)\n",
    "    \n",
    "    pictures[0].save(OUTPUT_DIR + \"/\" + 'anime.gif',save_all=True, append_images=pictures[1:],\n",
    "    optimize=False, duration=500, loop=0)"
   ]
  },
  {
   "cell_type": "code",
   "execution_count": null,
   "id": "responsible-possession",
   "metadata": {},
   "outputs": [],
   "source": [
    "if __name__ == '__main__':\n",
    "    \n",
    "    model = CustomModel(model_name=CFG.model_name[2]).to(CFG.device)\n",
    "    optimizer = optim.Adam(model.parameters(), lr=CFG.lr)\n",
    "    \n",
    "    test_predicted_metrics = []\n",
    "    test_true_labels = []\n",
    "    model_loss = 0\n",
    "    best_model_loss = 100\n",
    "\n",
    "\n",
    "    distance = CosineSimilarity()\n",
    "    reducer = ThresholdReducer(low = 0)\n",
    "    loss_func = TripletMarginLoss(margin=0.2, distance=distance, reducer=reducer)\n",
    "    mining_func = TripletMarginMiner(margin=0.2, distance=distance)\n",
    "    \n",
    "    for epoch in range(1, CFG.epoch + 1):\n",
    "        print('Epoch {}/{}'.format(epoch, CFG.epoch))\n",
    "        print('-' * 10)\n",
    "        train(model, loss_func, mining_func, CFG.device, train_loader, optimizer, epoch)\n",
    "#         if epoch % 5 == 0 or epoch ==1:\n",
    "        torch.save(model.state_dict(),OUTPUT_DIR + \"/\" + f'epoch{epoch}_model.pth')\n",
    "        tsne(epoch)\n",
    "    \n",
    "    #create mp4 \n",
    "    create_gif()"
   ]
  },
  {
   "cell_type": "code",
   "execution_count": null,
   "id": "spanish-circus",
   "metadata": {},
   "outputs": [],
   "source": [
    "# tSNE_metrics = TSNE(n_components=2, random_state=0).fit_transform(test_predicted_metrics)\n",
    "\n",
    "# plt.scatter(tSNE_metrics[:, 0], tSNE_metrics[:, 1], c=test_true_labels)\n",
    "# plt.colorbar()\n",
    "# plt.savefig(\"output.png\")\n",
    "# plt.show()"
   ]
  }
 ],
 "metadata": {
  "kernelspec": {
   "display_name": "Python 3",
   "language": "python",
   "name": "python3"
  },
  "language_info": {
   "codemirror_mode": {
    "name": "ipython",
    "version": 3
   },
   "file_extension": ".py",
   "mimetype": "text/x-python",
   "name": "python",
   "nbconvert_exporter": "python",
   "pygments_lexer": "ipython3",
   "version": "3.8.5"
  }
 },
 "nbformat": 4,
 "nbformat_minor": 5
}
